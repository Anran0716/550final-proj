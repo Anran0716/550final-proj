{
 "cells": [
  {
   "cell_type": "markdown",
   "id": "0637d8b8",
   "metadata": {},
   "source": [
    "# Gather Historical Twitter Data about COVID-19 vaccine"
   ]
  },
  {
   "cell_type": "code",
   "execution_count": 2,
   "id": "a8ebb10e",
   "metadata": {},
   "outputs": [],
   "source": [
    "import tweepy as tw\n",
    "import pandas as pd\n",
    "import numpy as np\n",
    "import time\n",
    "import requests\n",
    "from datetime import datetime\n",
    "import seaborn as sns\n",
    "from matplotlib import pyplot as plt\n",
    "import calendar"
   ]
  },
  {
   "cell_type": "code",
   "execution_count": 3,
   "id": "1ed7ed39",
   "metadata": {},
   "outputs": [],
   "source": [
    "# Get this from the app that you create on the developer portal\n",
    "BEARER_TOKEN = \"AAAAAAAAAAAAAAAAAAAAAEJSWwEAAAAAW0pE8iFqsh6Z6HMK5SEkqtRbt4E%3D9YcPS68vNQybgeQS2Mv64SKSe8fWbUD5w4iUGUzF1ApIV6LUy0\""
   ]
  },
  {
   "cell_type": "code",
   "execution_count": 4,
   "id": "53086007",
   "metadata": {},
   "outputs": [],
   "source": [
    "# Initialize the API client and tell tweepy to wait if rate limit is met\n",
    "client = tw.Client(bearer_token=BEARER_TOKEN, wait_on_rate_limit=True)"
   ]
  },
  {
   "cell_type": "code",
   "execution_count": 6,
   "id": "8c8ca9d0",
   "metadata": {},
   "outputs": [
    {
     "name": "stdout",
     "output_type": "stream",
     "text": [
      "Response #1\n"
     ]
    }
   ],
   "source": [
    "# Example start and end date\n",
    "start_date = datetime.strptime(\"2021-01-01\", \"%Y-%m-%d\")\n",
    "end_date = datetime.strptime(\"2021-12-15\", \"%Y-%m-%d\") \n",
    "query_results = []\n",
    "places = {}\n",
    "max_results_per_request = 500 # must be between 10 and 500\n",
    "\n",
    "# Use the paginator to loop over all available tweets in batches of 500\n",
    "# This pulls 500 tweets at a time until all tweets from the time period are pulled\n",
    "for i, tweets in enumerate(\n",
    "    tw.Paginator(\n",
    "        client.search_all_tweets,\n",
    "        query=\"#Covid19vaccine -is:retweet place:USA\", #repace with other hastags related to covid vaccines like #COVIDvaccine #moderna #Pfizer etc.\n",
    "        tweet_fields=[\"created_at\", \"geo\"],\n",
    "        place_fields=[\"place_type\", \"geo\"],\n",
    "        expansions=\"geo.place_id\",\n",
    "        max_results=max_results_per_request,\n",
    "        start_time=start_date,\n",
    "        end_time=end_date,\n",
    "        limit=1000 #use with 1000\n",
    "    )\n",
    "):\n",
    "    print(f\"Response #{i+1}\")\n",
    "    \n",
    "    # Store the tweet data\n",
    "    # Note: 'tweets.data' is a list of the 500 tweets\n",
    "    query_results += tweets.data\n",
    "    \n",
    "        # Keep track of all of the places\n",
    "    for p in tweets.includes['places']:\n",
    "        places[p[\"id\"]] = p\n",
    "    \n"
   ]
  },
  {
   "cell_type": "code",
   "execution_count": 7,
   "id": "00926568",
   "metadata": {},
   "outputs": [],
   "source": [
    "# Convert to a dataframe and make a datetime column\n",
    "query_results = pd.DataFrame(query_results)\n",
    "query_results['created_at'] = pd.to_datetime(query_results['created_at'])\n",
    "\n",
    "# Extract out the place id as its own column\n",
    "query_results['place_id'] = query_results['geo'].apply(lambda geo: geo['place_id'])"
   ]
  },
  {
   "cell_type": "code",
   "execution_count": 8,
   "id": "83958019",
   "metadata": {},
   "outputs": [],
   "source": [
    "# Convert places dict to a dataframe\n",
    "places_df = []\n",
    "\n",
    "# Loop over each place_id\n",
    "for place_id in places:\n",
    "    \n",
    "    # Geo info for each place\n",
    "    values = places[place_id]\n",
    "    \n",
    "    # Convert to a dict\n",
    "    row = dict(values)\n",
    "    \n",
    "    # Save it\n",
    "    places_df.append(row)\n",
    "    \n",
    "# Initialize the dataframe\n",
    "places_df = pd.DataFrame(places_df).rename(columns={\"id\": \"place_id\"})"
   ]
  },
  {
   "cell_type": "code",
   "execution_count": 10,
   "id": "fde65357",
   "metadata": {},
   "outputs": [
    {
     "data": {
      "text/html": [
       "<div>\n",
       "<style scoped>\n",
       "    .dataframe tbody tr th:only-of-type {\n",
       "        vertical-align: middle;\n",
       "    }\n",
       "\n",
       "    .dataframe tbody tr th {\n",
       "        vertical-align: top;\n",
       "    }\n",
       "\n",
       "    .dataframe thead th {\n",
       "        text-align: right;\n",
       "    }\n",
       "</style>\n",
       "<table border=\"1\" class=\"dataframe\">\n",
       "  <thead>\n",
       "    <tr style=\"text-align: right;\">\n",
       "      <th></th>\n",
       "      <th>created_at</th>\n",
       "      <th>geo</th>\n",
       "      <th>id</th>\n",
       "      <th>text</th>\n",
       "      <th>place_id</th>\n",
       "    </tr>\n",
       "  </thead>\n",
       "  <tbody>\n",
       "    <tr>\n",
       "      <th>0</th>\n",
       "      <td>2021-12-09 17:00:21+00:00</td>\n",
       "      <td>{'place_id': 'dd9c503d6c35364b'}</td>\n",
       "      <td>1468988903516520457</td>\n",
       "      <td>Everyone even if vaccinated should watch these...</td>\n",
       "      <td>dd9c503d6c35364b</td>\n",
       "    </tr>\n",
       "    <tr>\n",
       "      <th>1</th>\n",
       "      <td>2021-11-16 22:27:35+00:00</td>\n",
       "      <td>{'place_id': '226b21641df42460'}</td>\n",
       "      <td>1460736332553203713</td>\n",
       "      <td>@MemHospitalNH Kudos to this dedicated team! 🏆...</td>\n",
       "      <td>226b21641df42460</td>\n",
       "    </tr>\n",
       "    <tr>\n",
       "      <th>2</th>\n",
       "      <td>2021-11-14 18:44:47+00:00</td>\n",
       "      <td>{'place_id': 'dd9c503d6c35364b'}</td>\n",
       "      <td>1459955488158892043</td>\n",
       "      <td>Mandate or no mandate, getting a #COVID19Vacci...</td>\n",
       "      <td>dd9c503d6c35364b</td>\n",
       "    </tr>\n",
       "    <tr>\n",
       "      <th>3</th>\n",
       "      <td>2021-11-12 23:59:01+00:00</td>\n",
       "      <td>{'place_id': '43d2418301bf1a49'}</td>\n",
       "      <td>1459309789519962116</td>\n",
       "      <td>https://t.co/ysXpCGuMra @BillGates @CDCgov #CO...</td>\n",
       "      <td>43d2418301bf1a49</td>\n",
       "    </tr>\n",
       "    <tr>\n",
       "      <th>4</th>\n",
       "      <td>2021-11-10 05:41:29+00:00</td>\n",
       "      <td>{'place_id': 'fbd6d2f5a4e4a15e'}</td>\n",
       "      <td>1458308811970600961</td>\n",
       "      <td>FREE  #COVID19Vaccine clinic @DeckerPUSD on Su...</td>\n",
       "      <td>fbd6d2f5a4e4a15e</td>\n",
       "    </tr>\n",
       "  </tbody>\n",
       "</table>\n",
       "</div>"
      ],
      "text/plain": [
       "                 created_at                               geo  \\\n",
       "0 2021-12-09 17:00:21+00:00  {'place_id': 'dd9c503d6c35364b'}   \n",
       "1 2021-11-16 22:27:35+00:00  {'place_id': '226b21641df42460'}   \n",
       "2 2021-11-14 18:44:47+00:00  {'place_id': 'dd9c503d6c35364b'}   \n",
       "3 2021-11-12 23:59:01+00:00  {'place_id': '43d2418301bf1a49'}   \n",
       "4 2021-11-10 05:41:29+00:00  {'place_id': 'fbd6d2f5a4e4a15e'}   \n",
       "\n",
       "                    id                                               text  \\\n",
       "0  1468988903516520457  Everyone even if vaccinated should watch these...   \n",
       "1  1460736332553203713  @MemHospitalNH Kudos to this dedicated team! 🏆...   \n",
       "2  1459955488158892043  Mandate or no mandate, getting a #COVID19Vacci...   \n",
       "3  1459309789519962116  https://t.co/ysXpCGuMra @BillGates @CDCgov #CO...   \n",
       "4  1458308811970600961  FREE  #COVID19Vaccine clinic @DeckerPUSD on Su...   \n",
       "\n",
       "           place_id  \n",
       "0  dd9c503d6c35364b  \n",
       "1  226b21641df42460  \n",
       "2  dd9c503d6c35364b  \n",
       "3  43d2418301bf1a49  \n",
       "4  fbd6d2f5a4e4a15e  "
      ]
     },
     "execution_count": 10,
     "metadata": {},
     "output_type": "execute_result"
    }
   ],
   "source": [
    "query_results.head()"
   ]
  },
  {
   "cell_type": "code",
   "execution_count": 11,
   "id": "2e71de13",
   "metadata": {},
   "outputs": [
    {
     "data": {
      "text/html": [
       "<div>\n",
       "<style scoped>\n",
       "    .dataframe tbody tr th:only-of-type {\n",
       "        vertical-align: middle;\n",
       "    }\n",
       "\n",
       "    .dataframe tbody tr th {\n",
       "        vertical-align: top;\n",
       "    }\n",
       "\n",
       "    .dataframe thead th {\n",
       "        text-align: right;\n",
       "    }\n",
       "</style>\n",
       "<table border=\"1\" class=\"dataframe\">\n",
       "  <thead>\n",
       "    <tr style=\"text-align: right;\">\n",
       "      <th></th>\n",
       "      <th>full_name</th>\n",
       "      <th>geo</th>\n",
       "      <th>place_id</th>\n",
       "      <th>place_type</th>\n",
       "    </tr>\n",
       "  </thead>\n",
       "  <tbody>\n",
       "    <tr>\n",
       "      <th>0</th>\n",
       "      <td>Pennsylvania, USA</td>\n",
       "      <td>{'type': 'Feature', 'bbox': [-80.519851, 39.71...</td>\n",
       "      <td>dd9c503d6c35364b</td>\n",
       "      <td>admin</td>\n",
       "    </tr>\n",
       "    <tr>\n",
       "      <th>1</th>\n",
       "      <td>New Hampshire, USA</td>\n",
       "      <td>{'type': 'Feature', 'bbox': [-72.557247, 42.69...</td>\n",
       "      <td>226b21641df42460</td>\n",
       "      <td>admin</td>\n",
       "    </tr>\n",
       "    <tr>\n",
       "      <th>2</th>\n",
       "      <td>Mississippi, USA</td>\n",
       "      <td>{'type': 'Feature', 'bbox': [-91.655009, 30.14...</td>\n",
       "      <td>43d2418301bf1a49</td>\n",
       "      <td>admin</td>\n",
       "    </tr>\n",
       "    <tr>\n",
       "      <th>3</th>\n",
       "      <td>California, USA</td>\n",
       "      <td>{'type': 'Feature', 'bbox': [-124.482003, 32.5...</td>\n",
       "      <td>fbd6d2f5a4e4a15e</td>\n",
       "      <td>admin</td>\n",
       "    </tr>\n",
       "    <tr>\n",
       "      <th>4</th>\n",
       "      <td>Texas, USA</td>\n",
       "      <td>{'type': 'Feature', 'bbox': [-106.645646, 25.8...</td>\n",
       "      <td>e0060cda70f5f341</td>\n",
       "      <td>admin</td>\n",
       "    </tr>\n",
       "  </tbody>\n",
       "</table>\n",
       "</div>"
      ],
      "text/plain": [
       "            full_name                                                geo  \\\n",
       "0   Pennsylvania, USA  {'type': 'Feature', 'bbox': [-80.519851, 39.71...   \n",
       "1  New Hampshire, USA  {'type': 'Feature', 'bbox': [-72.557247, 42.69...   \n",
       "2    Mississippi, USA  {'type': 'Feature', 'bbox': [-91.655009, 30.14...   \n",
       "3     California, USA  {'type': 'Feature', 'bbox': [-124.482003, 32.5...   \n",
       "4          Texas, USA  {'type': 'Feature', 'bbox': [-106.645646, 25.8...   \n",
       "\n",
       "           place_id place_type  \n",
       "0  dd9c503d6c35364b      admin  \n",
       "1  226b21641df42460      admin  \n",
       "2  43d2418301bf1a49      admin  \n",
       "3  fbd6d2f5a4e4a15e      admin  \n",
       "4  e0060cda70f5f341      admin  "
      ]
     },
     "execution_count": 11,
     "metadata": {},
     "output_type": "execute_result"
    }
   ],
   "source": [
    "places_df.head()"
   ]
  },
  {
   "cell_type": "code",
   "execution_count": 12,
   "id": "4e772b9b",
   "metadata": {},
   "outputs": [],
   "source": [
    "# Merge in the places geo data and the query results\n",
    "query_results_final = query_results.merge(places_df, how='left', on='place_id')\n",
    "query_results_final=query_results_final.drop(['geo_x', 'id','place_id','geo_y','place_type'], axis=1)\n",
    "query_results_final['created_at']=query_results_final['created_at'].dt.strftime('%d-%m-%Y')"
   ]
  },
  {
   "cell_type": "code",
   "execution_count": 22,
   "id": "4f449faa",
   "metadata": {},
   "outputs": [
    {
     "data": {
      "text/html": [
       "<div>\n",
       "<style scoped>\n",
       "    .dataframe tbody tr th:only-of-type {\n",
       "        vertical-align: middle;\n",
       "    }\n",
       "\n",
       "    .dataframe tbody tr th {\n",
       "        vertical-align: top;\n",
       "    }\n",
       "\n",
       "    .dataframe thead th {\n",
       "        text-align: right;\n",
       "    }\n",
       "</style>\n",
       "<table border=\"1\" class=\"dataframe\">\n",
       "  <thead>\n",
       "    <tr style=\"text-align: right;\">\n",
       "      <th></th>\n",
       "      <th>created_at</th>\n",
       "      <th>text</th>\n",
       "      <th>full_name</th>\n",
       "    </tr>\n",
       "  </thead>\n",
       "  <tbody>\n",
       "    <tr>\n",
       "      <th>0</th>\n",
       "      <td>30-03-2021</td>\n",
       "      <td>I have been vaxxed! Start the clock for the se...</td>\n",
       "      <td>Florida, USA</td>\n",
       "    </tr>\n",
       "    <tr>\n",
       "      <th>1</th>\n",
       "      <td>30-03-2021</td>\n",
       "      <td>1st 💉 down. 1 to go. Big shout out to @ACHealt...</td>\n",
       "      <td>North Carolina, USA</td>\n",
       "    </tr>\n",
       "    <tr>\n",
       "      <th>2</th>\n",
       "      <td>30-03-2021</td>\n",
       "      <td>My son-in-law was among the 13,000 today. So g...</td>\n",
       "      <td>Michigan, USA</td>\n",
       "    </tr>\n",
       "    <tr>\n",
       "      <th>3</th>\n",
       "      <td>29-03-2021</td>\n",
       "      <td>Got dose #1 today, looking forward to dose #2 ...</td>\n",
       "      <td>Ohio, USA</td>\n",
       "    </tr>\n",
       "    <tr>\n",
       "      <th>4</th>\n",
       "      <td>29-03-2021</td>\n",
       "      <td>@POTUS @CityFoodLover such a great news! 90% o...</td>\n",
       "      <td>Florida, USA</td>\n",
       "    </tr>\n",
       "  </tbody>\n",
       "</table>\n",
       "</div>"
      ],
      "text/plain": [
       "   created_at                                               text  \\\n",
       "0  30-03-2021  I have been vaxxed! Start the clock for the se...   \n",
       "1  30-03-2021  1st 💉 down. 1 to go. Big shout out to @ACHealt...   \n",
       "2  30-03-2021  My son-in-law was among the 13,000 today. So g...   \n",
       "3  29-03-2021  Got dose #1 today, looking forward to dose #2 ...   \n",
       "4  29-03-2021  @POTUS @CityFoodLover such a great news! 90% o...   \n",
       "\n",
       "             full_name  \n",
       "0         Florida, USA  \n",
       "1  North Carolina, USA  \n",
       "2        Michigan, USA  \n",
       "3            Ohio, USA  \n",
       "4         Florida, USA  "
      ]
     },
     "execution_count": 22,
     "metadata": {},
     "output_type": "execute_result"
    }
   ],
   "source": [
    "query_results_final.head()"
   ]
  },
  {
   "cell_type": "code",
   "execution_count": 33,
   "id": "e9df5ee1",
   "metadata": {},
   "outputs": [],
   "source": [
    "#rename the file starting with 'his' and store it as csv\n",
    "query_results_final.to_csv('his.csv',index=False,encoding='utf-8')"
   ]
  },
  {
   "cell_type": "code",
   "execution_count": null,
   "id": "d7c1e23f",
   "metadata": {},
   "outputs": [],
   "source": []
  }
 ],
 "metadata": {
  "kernelspec": {
   "display_name": "Python 3 (ipykernel)",
   "language": "python",
   "name": "python3"
  },
  "language_info": {
   "codemirror_mode": {
    "name": "ipython",
    "version": 3
   },
   "file_extension": ".py",
   "mimetype": "text/x-python",
   "name": "python",
   "nbconvert_exporter": "python",
   "pygments_lexer": "ipython3",
   "version": "3.8.12"
  }
 },
 "nbformat": 4,
 "nbformat_minor": 5
}
