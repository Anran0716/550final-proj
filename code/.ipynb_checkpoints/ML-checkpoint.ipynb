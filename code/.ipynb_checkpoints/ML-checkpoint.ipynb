{
 "cells": [
  {
   "cell_type": "markdown",
   "id": "50067c5d",
   "metadata": {},
   "source": [
    "# Machine Learning of Sentiment Analysis"
   ]
  },
  {
   "cell_type": "markdown",
   "id": "d27abc9f",
   "metadata": {},
   "source": [
    "This section shows how to classify Tweets into different sentiment categories, postive, netural and negative with different models."
   ]
  },
  {
   "cell_type": "code",
   "execution_count": 1,
   "id": "51069824",
   "metadata": {},
   "outputs": [],
   "source": [
    "import nltk\n",
    "from sklearn.pipeline import Pipeline\n",
    "from sklearn.model_selection import train_test_split\n",
    "from sklearn.metrics import classification_report, confusion_matrix, accuracy_score\n",
    "from sklearn.naive_bayes import MultinomialNB\n",
    "from sklearn.model_selection import KFold, cross_val_score\n",
    "from sklearn.ensemble import RandomForestClassifier\n",
    "from sklearn.feature_extraction.text import CountVectorizer\n",
    "from sklearn.feature_extraction.text import TfidfTransformer\n",
    "from sklearn.model_selection import GridSearchCV\n",
    "from nltk.corpus import stopwords\n",
    "from nltk.tokenize import TweetTokenizer\n",
    "from nltk.stem.wordnet import WordNetLemmatizer \n",
    "from collections import Counter\n",
    "import pandas as pd\n",
    "import numpy as np\n",
    "import os\n",
    "import re    \n",
    "import nltk  \n",
    "import string \n",
    "import warnings \n",
    "import numpy as np \n",
    "import pandas as pd \n",
    "import seaborn as sns \n",
    "import matplotlib.pyplot as plt  \n",
    "from sklearn.naive_bayes import MultinomialNB\n",
    "from sklearn.model_selection import train_test_split\n",
    "from sklearn.feature_extraction.text import TfidfVectorizer \n",
    "from sklearn.metrics import roc_auc_score\n"
   ]
  },
  {
   "cell_type": "markdown",
   "id": "cab92009",
   "metadata": {},
   "source": [
    "## Data Preprocessing"
   ]
  },
  {
   "cell_type": "code",
   "execution_count": 2,
   "id": "2f58a1bb",
   "metadata": {},
   "outputs": [
    {
     "data": {
      "text/html": [
       "<div>\n",
       "<style scoped>\n",
       "    .dataframe tbody tr th:only-of-type {\n",
       "        vertical-align: middle;\n",
       "    }\n",
       "\n",
       "    .dataframe tbody tr th {\n",
       "        vertical-align: top;\n",
       "    }\n",
       "\n",
       "    .dataframe thead th {\n",
       "        text-align: right;\n",
       "    }\n",
       "</style>\n",
       "<table border=\"1\" class=\"dataframe\">\n",
       "  <thead>\n",
       "    <tr style=\"text-align: right;\">\n",
       "      <th></th>\n",
       "      <th>date</th>\n",
       "      <th>text</th>\n",
       "      <th>location</th>\n",
       "      <th>month</th>\n",
       "      <th>formatted_text</th>\n",
       "      <th>polarity</th>\n",
       "      <th>Subjectivity</th>\n",
       "      <th>Sentiment</th>\n",
       "    </tr>\n",
       "  </thead>\n",
       "  <tbody>\n",
       "    <tr>\n",
       "      <th>0</th>\n",
       "      <td>09-12-2021</td>\n",
       "      <td>Everyone even if vaccinated should watch these...</td>\n",
       "      <td>Pennsylvania, USA</td>\n",
       "      <td>9</td>\n",
       "      <td>everyone even vaccinated watch videos share co...</td>\n",
       "      <td>0.000000</td>\n",
       "      <td>0.000000</td>\n",
       "      <td>Neutral</td>\n",
       "    </tr>\n",
       "    <tr>\n",
       "      <th>1</th>\n",
       "      <td>16-11-2021</td>\n",
       "      <td>@MemHospitalNH Kudos to this dedicated team! 🏆...</td>\n",
       "      <td>New Hampshire, USA</td>\n",
       "      <td>11</td>\n",
       "      <td>kudos dedicated team covid19vaccine</td>\n",
       "      <td>0.000000</td>\n",
       "      <td>0.000000</td>\n",
       "      <td>Neutral</td>\n",
       "    </tr>\n",
       "    <tr>\n",
       "      <th>2</th>\n",
       "      <td>14-11-2021</td>\n",
       "      <td>Mandate or no mandate, getting a #COVID19Vacci...</td>\n",
       "      <td>Pennsylvania, USA</td>\n",
       "      <td>11</td>\n",
       "      <td>mandate mandate getting covid19vaccine best ke...</td>\n",
       "      <td>0.633333</td>\n",
       "      <td>0.433333</td>\n",
       "      <td>Positive</td>\n",
       "    </tr>\n",
       "    <tr>\n",
       "      <th>3</th>\n",
       "      <td>12-11-2021</td>\n",
       "      <td>https://t.co/ysXpCGuMra @BillGates @CDCgov #CO...</td>\n",
       "      <td>Mississippi, USA</td>\n",
       "      <td>12</td>\n",
       "      <td>covid19vaccine bioweapon china</td>\n",
       "      <td>0.000000</td>\n",
       "      <td>0.000000</td>\n",
       "      <td>Neutral</td>\n",
       "    </tr>\n",
       "    <tr>\n",
       "      <th>4</th>\n",
       "      <td>10-11-2021</td>\n",
       "      <td>FREE  #COVID19Vaccine clinic @DeckerPUSD on Su...</td>\n",
       "      <td>California, USA</td>\n",
       "      <td>10</td>\n",
       "      <td>free covid19vaccine clinic sunday november dec...</td>\n",
       "      <td>0.400000</td>\n",
       "      <td>0.800000</td>\n",
       "      <td>Positive</td>\n",
       "    </tr>\n",
       "  </tbody>\n",
       "</table>\n",
       "</div>"
      ],
      "text/plain": [
       "         date                                               text  \\\n",
       "0  09-12-2021  Everyone even if vaccinated should watch these...   \n",
       "1  16-11-2021  @MemHospitalNH Kudos to this dedicated team! 🏆...   \n",
       "2  14-11-2021  Mandate or no mandate, getting a #COVID19Vacci...   \n",
       "3  12-11-2021  https://t.co/ysXpCGuMra @BillGates @CDCgov #CO...   \n",
       "4  10-11-2021  FREE  #COVID19Vaccine clinic @DeckerPUSD on Su...   \n",
       "\n",
       "             location  month  \\\n",
       "0   Pennsylvania, USA      9   \n",
       "1  New Hampshire, USA     11   \n",
       "2   Pennsylvania, USA     11   \n",
       "3    Mississippi, USA     12   \n",
       "4     California, USA     10   \n",
       "\n",
       "                                      formatted_text  polarity  Subjectivity  \\\n",
       "0  everyone even vaccinated watch videos share co...  0.000000      0.000000   \n",
       "1                kudos dedicated team covid19vaccine  0.000000      0.000000   \n",
       "2  mandate mandate getting covid19vaccine best ke...  0.633333      0.433333   \n",
       "3                     covid19vaccine bioweapon china  0.000000      0.000000   \n",
       "4  free covid19vaccine clinic sunday november dec...  0.400000      0.800000   \n",
       "\n",
       "  Sentiment  \n",
       "0   Neutral  \n",
       "1   Neutral  \n",
       "2  Positive  \n",
       "3   Neutral  \n",
       "4  Positive  "
      ]
     },
     "execution_count": 2,
     "metadata": {},
     "output_type": "execute_result"
    }
   ],
   "source": [
    "tweets_df=pd.read_csv('.\\data\\cleaned_data.csv',encoding='utf-8')\n",
    "#tweets_df= tweets_df[(tweets_df.Sentiment != \"Neutral\")]\n",
    "#tweets_df=tweets_df.drop(tweets_df['Sentiment']=='Neutural',axis=1)\n",
    "X=tweets_df['text']\n",
    "tweets_df.head()"
   ]
  },
  {
   "cell_type": "code",
   "execution_count": 117,
   "id": "534768eb",
   "metadata": {},
   "outputs": [
    {
     "name": "stderr",
     "output_type": "stream",
     "text": [
      "[nltk_data] Downloading package stopwords to\n",
      "[nltk_data]     C:\\Users\\zheng\\AppData\\Roaming\\nltk_data...\n",
      "[nltk_data]   Package stopwords is already up-to-date!\n"
     ]
    }
   ],
   "source": [
    "from nltk.corpus import stopwords\n",
    "nltk.download('stopwords')\n",
    "import string\n",
    "from nltk.stem import PorterStemmer\n",
    "\n",
    "stop_words=stopwords.words('english')\n",
    "punct=string.punctuation\n",
    "stemmer=PorterStemmer()\n",
    "\n",
    "import re\n",
    "cleaned_data=[]\n",
    "for i in range(len(X)):\n",
    "  tweet=re.sub('[^a-zA-Z]',' ',X.iloc[i])\n",
    "  tweet=tweet.lower().split()\n",
    "  tweet=[stemmer.stem(word) for word in tweet if (word not in stop_words) and (word not in punct)]\n",
    "  tweet=' '.join(tweet)\n",
    "  cleaned_data.append(tweet)\n"
   ]
  },
  {
   "cell_type": "markdown",
   "id": "8af622b8",
   "metadata": {},
   "source": [
    "## Split the dataset into test and training"
   ]
  },
  {
   "cell_type": "code",
   "execution_count": 118,
   "id": "da8c756a",
   "metadata": {},
   "outputs": [],
   "source": [
    "tweets_df['senti_label']=tweets_df.Sentiment.apply(lambda x: 0 if 'Negative'in x else 1 if 'Netural' else 5)\n",
    "y=tweets_df['senti_label']\n",
    "from sklearn.feature_extraction.text import CountVectorizer\n",
    "cv=CountVectorizer(max_features=3000)\n",
    "X_fin=cv.fit_transform(cleaned_data).toarray()\n",
    "X_train,X_test,y_train,y_test=train_test_split(X_fin,y,test_size=0.3, random_state=123)"
   ]
  },
  {
   "cell_type": "markdown",
   "id": "d5a2786a",
   "metadata": {},
   "source": [
    "## Compare with different models"
   ]
  },
  {
   "cell_type": "markdown",
   "id": "f68db4e0",
   "metadata": {},
   "source": [
    "## Random forest"
   ]
  },
  {
   "cell_type": "code",
   "execution_count": 119,
   "id": "ebb4ca68",
   "metadata": {},
   "outputs": [
    {
     "name": "stdout",
     "output_type": "stream",
     "text": [
      "Results for Random forest\n",
      "ROC AUC:  0.7822040851578357\n",
      "Classification Report:\n",
      "              precision    recall  f1-score   support\n",
      "\n",
      "           0       0.83      0.58      0.68       249\n",
      "           1       0.94      0.98      0.96      1674\n",
      "\n",
      "    accuracy                           0.93      1923\n",
      "   macro avg       0.88      0.78      0.82      1923\n",
      "weighted avg       0.93      0.93      0.92      1923\n",
      "\n",
      "Accuracy: 0.9303172126885075\n"
     ]
    }
   ],
   "source": [
    "from sklearn.ensemble import RandomForestClassifier\n",
    "rf_clf = RandomForestClassifier(n_estimators=250, random_state=0) \n",
    "rf_clf.fit(X_train, y_train) \n",
    "y_pred1 = rf_clf.predict(X_test)\n",
    "\n",
    "print(\"Results for Random forest\")\n",
    "print(\"ROC AUC: \", roc_auc_score(y_test, y_pred1))\n",
    "print(\"Classification Report:\",)\n",
    "print(classification_report(y_test,y_pred1)) \n",
    "print(\"Accuracy:\",accuracy_score(y_test,y_pred1))"
   ]
  },
  {
   "cell_type": "code",
   "execution_count": 93,
   "id": "c6cc3899",
   "metadata": {},
   "outputs": [
    {
     "data": {
      "text/plain": [
       "Text(0.5, 0.98, 'Confusion matrix for random forest')"
      ]
     },
     "execution_count": 93,
     "metadata": {},
     "output_type": "execute_result"
    },
    {
     "data": {
      "image/png": "[encoded data removed]",
      "text/plain": [
       "<Figure size 720x720 with 2 Axes>"
      ]
     },
     "metadata": {
      "needs_background": "light"
     },
     "output_type": "display_data"
    }
   ],
   "source": [
    "from mlxtend.plotting import plot_confusion_matrix\n",
    "CR1=confusion_matrix(y_test,y_pred1)\n",
    "fig,ax=plot_confusion_matrix(conf_mat=CR1,figsize=(10,10),show_absolute=True,show_normed=True,colorbar=True)\n",
    "fig.suptitle('Confusion matrix for random forest', fontsize=20)"
   ]
  },
  {
   "cell_type": "markdown",
   "id": "3b928e34",
   "metadata": {},
   "source": [
    "## Logistic Regression "
   ]
  },
  {
   "cell_type": "code",
   "execution_count": 94,
   "id": "3592bd64",
   "metadata": {},
   "outputs": [],
   "source": [
    "from sklearn.linear_model import LogisticRegression\n",
    "log_model = LogisticRegression()"
   ]
  },
  {
   "cell_type": "code",
   "execution_count": 120,
   "id": "2c7596d5",
   "metadata": {},
   "outputs": [
    {
     "name": "stdout",
     "output_type": "stream",
     "text": [
      "Results for Logistic Regression\n",
      "ROC AUC:  0.7312727612960803\n",
      "Classification Report:\n",
      "              precision    recall  f1-score   support\n",
      "\n",
      "           0       0.86      0.47      0.61       249\n",
      "           1       0.93      0.99      0.96      1674\n",
      "\n",
      "    accuracy                           0.92      1923\n",
      "   macro avg       0.89      0.73      0.78      1923\n",
      "weighted avg       0.92      0.92      0.91      1923\n",
      "\n",
      "Accuracy: 0.921996879875195\n"
     ]
    }
   ],
   "source": [
    "log_model = log_model.fit(X=X_train, y=y_train)\n",
    "y_pred2 = log_model.predict(X_test)\n",
    "print(\"Results for Logistic Regression\")\n",
    "print(\"ROC AUC: \", roc_auc_score(y_test, y_pred2))\n",
    "print(\"Classification Report:\",)\n",
    "print(classification_report(y_test,y_pred2)) \n",
    "print(\"Accuracy:\",accuracy_score(y_test,y_pred2))"
   ]
  },
  {
   "cell_type": "code",
   "execution_count": 96,
   "id": "d3c6efd6",
   "metadata": {},
   "outputs": [
    {
     "data": {
      "text/plain": [
       "Text(0.5, 0.98, 'Confusion matrix for logistic regression')"
      ]
     },
     "execution_count": 96,
     "metadata": {},
     "output_type": "execute_result"
    },
    {
     "data": {
      "image/png": "[encoded data removed]",
      "text/plain": [
       "<Figure size 720x720 with 2 Axes>"
      ]
     },
     "metadata": {
      "needs_background": "light"
     },
     "output_type": "display_data"
    }
   ],
   "source": [
    "CR2=confusion_matrix(y_test,y_pred2)\n",
    "fig,ax=plot_confusion_matrix(conf_mat=CR2,figsize=(10,10),show_absolute=True,show_normed=True,colorbar=True)\n",
    "fig.suptitle('Confusion matrix for logistic regression', fontsize=20)"
   ]
  },
  {
   "cell_type": "markdown",
   "id": "afc972f3",
   "metadata": {},
   "source": [
    "https://regenerativetoday.com/a-complete-sentiment-analysis-project-using-pythons-scikit-learn/"
   ]
  },
  {
   "cell_type": "markdown",
   "id": "a5e1f579",
   "metadata": {},
   "source": [
    "## Support Vector Machine"
   ]
  },
  {
   "cell_type": "code",
   "execution_count": 122,
   "id": "f0c94257",
   "metadata": {},
   "outputs": [
    {
     "name": "stdout",
     "output_type": "stream",
     "text": [
      "Results for Support Vector Machine\n",
      "ROC AUC:  0.6224899598393574\n",
      "Classification Report:\n",
      "              precision    recall  f1-score   support\n",
      "\n",
      "           0       1.00      0.24      0.39       249\n",
      "           1       0.90      1.00      0.95      1674\n",
      "\n",
      "    accuracy                           0.90      1923\n",
      "   macro avg       0.95      0.62      0.67      1923\n",
      "weighted avg       0.91      0.90      0.88      1923\n",
      "\n",
      "Accuracy: 0.9022360894435777\n"
     ]
    }
   ],
   "source": [
    "#Support Vector Machine\n",
    "from sklearn.model_selection import train_test_split\n",
    "X_train, X_test, y_train, y_test = train_test_split(X, y, \n",
    "                                        test_size = 0.3, random_state=123)\n",
    "#Vectorizing the text data\n",
    "cv = CountVectorizer()\n",
    "ctmTr = cv.fit_transform(X_train)\n",
    "X_test_dtm = cv.transform(X_test)\n",
    "from sklearn import svm#Training the model\n",
    "svcl = svm.SVC()\n",
    "svcl.fit(ctmTr, y_train)\n",
    "svcl_score = svcl.score(X_test_dtm, y_test)\n",
    "print(\"Results for Support Vector Machine\")\n",
    "y_pred3 = svcl.predict(X_test_dtm)\n",
    "print(\"ROC AUC: \", roc_auc_score(y_test, y_pred3))\n",
    "print(\"Classification Report:\",)\n",
    "print(classification_report(y_test,y_pred3)) \n",
    "print(\"Accuracy:\",accuracy_score(y_test,y_pred3))"
   ]
  },
  {
   "cell_type": "code",
   "execution_count": 98,
   "id": "014c7b33",
   "metadata": {},
   "outputs": [
    {
     "data": {
      "text/plain": [
       "Text(0.5, 0.98, 'Confusion matrix for Support Vector Machine')"
      ]
     },
     "execution_count": 98,
     "metadata": {},
     "output_type": "execute_result"
    },
    {
     "data": {
      "image/png": "[encoded data removed]",
      "text/plain": [
       "<Figure size 720x720 with 2 Axes>"
      ]
     },
     "metadata": {
      "needs_background": "light"
     },
     "output_type": "display_data"
    }
   ],
   "source": [
    "CR3=confusion_matrix(y_test,y_pred3)\n",
    "fig,ax=plot_confusion_matrix(conf_mat=CR3,figsize=(10,10),show_absolute=True,show_normed=True,colorbar=True)\n",
    "fig.suptitle('Confusion matrix for Support Vector Machine', fontsize=20)"
   ]
  },
  {
   "cell_type": "markdown",
   "id": "a3ba6625",
   "metadata": {},
   "source": [
    "## K Nearest Neighbor"
   ]
  },
  {
   "cell_type": "code",
   "execution_count": 99,
   "id": "811f3ab7",
   "metadata": {},
   "outputs": [
    {
     "name": "stdout",
     "output_type": "stream",
     "text": [
      "Results for KNN Classifier with CountVectorizer\n",
      "ROC AUC:  0.6018122669891033\n",
      "Classification Report:\n",
      "              precision    recall  f1-score   support\n",
      "\n",
      "           0       0.96      0.20      0.34       249\n",
      "           1       0.89      1.00      0.94      1674\n",
      "\n",
      "    accuracy                           0.90      1923\n",
      "   macro avg       0.93      0.60      0.64      1923\n",
      "weighted avg       0.90      0.90      0.87      1923\n",
      "\n",
      "Accuracy: 0.8959958398335933\n"
     ]
    }
   ],
   "source": [
    "from sklearn.model_selection import train_test_split\n",
    "X_train, X_test, y_train, y_test = train_test_split(X, y, \n",
    "                                        test_size = 0.3, random_state=123)\n",
    "from sklearn.feature_extraction.text import CountVectorizer\n",
    "cv = CountVectorizer()\n",
    "ctmTr = cv.fit_transform(X_train)\n",
    "X_test_dtm = cv.transform(X_test)\n",
    "from sklearn.neighbors import KNeighborsClassifier\n",
    "knn = KNeighborsClassifier(n_neighbors=5)\n",
    "knn.fit(ctmTr, y_train)\n",
    "knn_score = knn.score(X_test_dtm, y_test)\n",
    "print(\"Results for KNN Classifier with CountVectorizer\")\n",
    "y_pred4 = knn.predict(X_test_dtm)\n",
    "print(\"ROC AUC: \", roc_auc_score(y_test, y_pred4))\n",
    "print(\"Classification Report:\",)\n",
    "print(classification_report(y_test,y_pred4)) \n",
    "print(\"Accuracy:\",accuracy_score(y_test,y_pred4))"
   ]
  },
  {
   "cell_type": "code",
   "execution_count": 100,
   "id": "dcf5a6a5",
   "metadata": {},
   "outputs": [
    {
     "data": {
      "text/plain": [
       "Text(0.5, 0.98, 'Confusion matrix for K Nearest Neighbor')"
      ]
     },
     "execution_count": 100,
     "metadata": {},
     "output_type": "execute_result"
    },
    {
     "data": {
      "image/png": "[encoded data removed]",
      "text/plain": [
       "<Figure size 720x720 with 2 Axes>"
      ]
     },
     "metadata": {
      "needs_background": "light"
     },
     "output_type": "display_data"
    }
   ],
   "source": [
    "CR4=confusion_matrix(y_test,y_pred4)\n",
    "fig,ax=plot_confusion_matrix(conf_mat=CR4,figsize=(10,10),show_absolute=True,show_normed=True,colorbar=True)\n",
    "fig.suptitle('Confusion matrix for K Nearest Neighbor', fontsize=20)"
   ]
  },
  {
   "cell_type": "markdown",
   "id": "0ec7d6f8",
   "metadata": {},
   "source": [
    "## Evaluate the model"
   ]
  },
  {
   "cell_type": "markdown",
   "id": "febb87b7",
   "metadata": {},
   "source": [
    "- the most optimal: random forest"
   ]
  },
  {
   "cell_type": "code",
   "execution_count": 107,
   "id": "a10e641a",
   "metadata": {},
   "outputs": [],
   "source": [
    "from sklearn.feature_extraction.text import TfidfVectorizer\n",
    "\n",
    "vectorizer = TfidfVectorizer()\n",
    "x1 = vectorizer.fit_transform(cleaned_data)\n",
    "y1 = tweets_df['senti_label']\n",
    "\n",
    "vectorizer = TfidfVectorizer(min_df=15)\n",
    "x1  = vectorizer.fit_transform(cleaned_data)\n",
    "\n",
    "from sklearn.feature_selection import SelectKBest, chi2\n",
    "# select the 500 features that have the strongest correlation to a class from the remaining \n",
    "selected_features = \\\n",
    "SelectKBest(chi2, k=500).fit(x1, y1).get_support(indices=True)\n",
    "vectorizer = TfidfVectorizer(min_df=15, vocabulary=selected_features)\n",
    "x1 = vectorizer.fit_transform(cleaned_data)\n",
    "\n",
    "from sklearn.model_selection import train_test_split\n",
    "X_train, X_test, y_train, y_test = train_test_split(x1, y1, test_size=0.3, random_state=123)"
   ]
  },
  {
   "cell_type": "code",
   "execution_count": 108,
   "id": "7c4ccb9a",
   "metadata": {},
   "outputs": [
    {
     "data": {
      "text/plain": [
       "array([[0.13118602, 0.86881398]])"
      ]
     },
     "execution_count": 108,
     "metadata": {},
     "output_type": "execute_result"
    }
   ],
   "source": [
    "rf_clf.fit(x1,y1)\n",
    "test_sentence = vectorizer.transform(['I love covidvaccine!'])\n",
    "rf_clf.predict_proba(test_sentence)"
   ]
  },
  {
   "cell_type": "code",
   "execution_count": null,
   "id": "fdbe9e72",
   "metadata": {},
   "outputs": [],
   "source": []
  }
 ],
 "metadata": {
  "kernelspec": {
   "display_name": "Python 3 (ipykernel)",
   "language": "python",
   "name": "python3"
  },
  "language_info": {
   "codemirror_mode": {
    "name": "ipython",
    "version": 3
   },
   "file_extension": ".py",
   "mimetype": "text/x-python",
   "name": "python",
   "nbconvert_exporter": "python",
   "pygments_lexer": "ipython3",
   "version": "3.8.12"
  }
 },
 "nbformat": 4,
 "nbformat_minor": 5
}
