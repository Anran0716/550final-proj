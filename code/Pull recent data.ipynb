{
 "cells": [
  {
   "cell_type": "markdown",
   "id": "3572e051",
   "metadata": {},
   "source": [
    "## Gather recent Twitter data"
   ]
  },
  {
   "cell_type": "code",
   "execution_count": 13,
   "id": "c20f33d0",
   "metadata": {},
   "outputs": [],
   "source": [
    "import tweepy as tw\n",
    "import datetime\n",
    "import csv\n",
    "import pandas as pd"
   ]
  },
  {
   "cell_type": "code",
   "execution_count": 14,
   "id": "a15d534f",
   "metadata": {},
   "outputs": [],
   "source": [
    "api_key = \"tnpWnjHBc1tqXQiA2aVF9kE1C\"\n",
    "api_key_secret = \"SLvrBoQN2hQ8otiFU64BlWS27P2K1ugsZPi760l2HJuxIo0qBx\"\n",
    "access_token = \"1461495034788732930-EqWwdknYCNyVdSRJsHf17RIFafZxhr\"\n",
    "access_token_secret = \"7cx0cmr6MOHTZaa1KNYXls5qzgsRfcfa3fuxXeJbEVQUB\""
   ]
  },
  {
   "cell_type": "code",
   "execution_count": 15,
   "id": "8fb2882f",
   "metadata": {},
   "outputs": [],
   "source": [
    "auth = tw.OAuthHandler(api_key, api_key_secret)\n",
    "auth.set_access_token(access_token, access_token_secret)\n",
    "api = tw.API(auth, wait_on_rate_limit=True)"
   ]
  },
  {
   "cell_type": "code",
   "execution_count": 16,
   "id": "0d027d42",
   "metadata": {},
   "outputs": [],
   "source": [
    "search_words =  \"#Covid19vaccine OR #covid19vaccine OR #covidvaccine OR #COVIDvaccine OR #COVID-19 Vaccine OR #COVID-19Vaccine\"\n"
   ]
  },
  {
   "cell_type": "code",
   "execution_count": 17,
   "id": "a636bd8d",
   "metadata": {},
   "outputs": [
    {
     "data": {
      "text/plain": [
       "<tweepy.cursor.Cursor at 0x20728b089a0>"
      ]
     },
     "execution_count": 17,
     "metadata": {},
     "output_type": "execute_result"
    }
   ],
   "source": [
    "cursor = tw.Cursor(api.search_tweets,\n",
    "                   q=search_words,\n",
    "                   lang=\"en\",\n",
    "                  result_type=\"recent\")\n",
    "cursor"
   ]
  },
  {
   "cell_type": "code",
   "execution_count": 18,
   "id": "e07c9d3c",
   "metadata": {},
   "outputs": [
    {
     "data": {
      "text/plain": [
       "<tweepy.cursor.ItemIterator at 0x20728b08a60>"
      ]
     },
     "execution_count": 18,
     "metadata": {},
     "output_type": "execute_result"
    }
   ],
   "source": [
    "tweets = cursor.items(100)\n",
    "tweets"
   ]
  },
  {
   "cell_type": "code",
   "execution_count": null,
   "id": "baee98d3",
   "metadata": {},
   "outputs": [
    {
     "name": "stderr",
     "output_type": "stream",
     "text": [
      "Rate limit reached. Sleeping for: 659\n"
     ]
    }
   ],
   "source": [
    "#what information we need from tweets\n",
    "tweet_details=[[tweet.text,tweet.user.screen_name,tweet.user.location,tweet.created_at.strftime(\"%d-%b-%Y\")] for tweet in tweets]"
   ]
  },
  {
   "cell_type": "code",
   "execution_count": 38,
   "id": "f5b76ed7",
   "metadata": {
    "scrolled": true
   },
   "outputs": [
    {
     "data": {
      "text/html": [
       "<div>\n",
       "<style scoped>\n",
       "    .dataframe tbody tr th:only-of-type {\n",
       "        vertical-align: middle;\n",
       "    }\n",
       "\n",
       "    .dataframe tbody tr th {\n",
       "        vertical-align: top;\n",
       "    }\n",
       "\n",
       "    .dataframe thead th {\n",
       "        text-align: right;\n",
       "    }\n",
       "</style>\n",
       "<table border=\"1\" class=\"dataframe\">\n",
       "  <thead>\n",
       "    <tr style=\"text-align: right;\">\n",
       "      <th></th>\n",
       "      <th>text</th>\n",
       "      <th>user</th>\n",
       "      <th>location</th>\n",
       "      <th>date</th>\n",
       "    </tr>\n",
       "  </thead>\n",
       "  <tbody>\n",
       "    <tr>\n",
       "      <th>0</th>\n",
       "      <td>RT @TheTNHoller: “Since May 2021, people livin...</td>\n",
       "      <td>collinstw</td>\n",
       "      <td>Asheville, NC</td>\n",
       "      <td>05-Dec-2021</td>\n",
       "    </tr>\n",
       "    <tr>\n",
       "      <th>1</th>\n",
       "      <td>RT @BronxWorks: #GetVaccinated against COVID-1...</td>\n",
       "      <td>followbdc</td>\n",
       "      <td>614 Courtlandt Ave, Bronx NY</td>\n",
       "      <td>05-Dec-2021</td>\n",
       "    </tr>\n",
       "    <tr>\n",
       "      <th>2</th>\n",
       "      <td>RT @GovofCO: Booster shot ✅\\n\\nToday I got the...</td>\n",
       "      <td>EricSturrock</td>\n",
       "      <td>Port Ewen, NY</td>\n",
       "      <td>05-Dec-2021</td>\n",
       "    </tr>\n",
       "    <tr>\n",
       "      <th>3</th>\n",
       "      <td>RT @NPR: A new NPR analysis reveals that pro-T...</td>\n",
       "      <td>tilefen</td>\n",
       "      <td>Washington, DC</td>\n",
       "      <td>05-Dec-2021</td>\n",
       "    </tr>\n",
       "    <tr>\n",
       "      <th>4</th>\n",
       "      <td>RT @NPR: A new NPR analysis reveals that pro-T...</td>\n",
       "      <td>SNIZO</td>\n",
       "      <td></td>\n",
       "      <td>05-Dec-2021</td>\n",
       "    </tr>\n",
       "    <tr>\n",
       "      <th>...</th>\n",
       "      <td>...</td>\n",
       "      <td>...</td>\n",
       "      <td>...</td>\n",
       "      <td>...</td>\n",
       "    </tr>\n",
       "    <tr>\n",
       "      <th>95</th>\n",
       "      <td>RT @bcbluecon: How do 42 people at a birthday ...</td>\n",
       "      <td>drtobbe</td>\n",
       "      <td>Stockholm</td>\n",
       "      <td>05-Dec-2021</td>\n",
       "    </tr>\n",
       "    <tr>\n",
       "      <th>96</th>\n",
       "      <td>RT @rpoconnor: 1/ 42 fully-vaccinated persons ...</td>\n",
       "      <td>ariel_jones411</td>\n",
       "      <td></td>\n",
       "      <td>05-Dec-2021</td>\n",
       "    </tr>\n",
       "    <tr>\n",
       "      <th>97</th>\n",
       "      <td>RT @NPR: A new NPR analysis reveals that pro-T...</td>\n",
       "      <td>Ruthypie100</td>\n",
       "      <td>London, England</td>\n",
       "      <td>05-Dec-2021</td>\n",
       "    </tr>\n",
       "    <tr>\n",
       "      <th>98</th>\n",
       "      <td>RT @NationAfrica: The focus of our current cor...</td>\n",
       "      <td>jakaby5</td>\n",
       "      <td></td>\n",
       "      <td>05-Dec-2021</td>\n",
       "    </tr>\n",
       "    <tr>\n",
       "      <th>99</th>\n",
       "      <td>RT @NPR: A new NPR analysis reveals that pro-T...</td>\n",
       "      <td>emm_257</td>\n",
       "      <td>United States</td>\n",
       "      <td>05-Dec-2021</td>\n",
       "    </tr>\n",
       "  </tbody>\n",
       "</table>\n",
       "<p>100 rows × 4 columns</p>\n",
       "</div>"
      ],
      "text/plain": [
       "                                                 text            user  \\\n",
       "0   RT @TheTNHoller: “Since May 2021, people livin...       collinstw   \n",
       "1   RT @BronxWorks: #GetVaccinated against COVID-1...       followbdc   \n",
       "2   RT @GovofCO: Booster shot ✅\\n\\nToday I got the...    EricSturrock   \n",
       "3   RT @NPR: A new NPR analysis reveals that pro-T...         tilefen   \n",
       "4   RT @NPR: A new NPR analysis reveals that pro-T...           SNIZO   \n",
       "..                                                ...             ...   \n",
       "95  RT @bcbluecon: How do 42 people at a birthday ...         drtobbe   \n",
       "96  RT @rpoconnor: 1/ 42 fully-vaccinated persons ...  ariel_jones411   \n",
       "97  RT @NPR: A new NPR analysis reveals that pro-T...     Ruthypie100   \n",
       "98  RT @NationAfrica: The focus of our current cor...         jakaby5   \n",
       "99  RT @NPR: A new NPR analysis reveals that pro-T...         emm_257   \n",
       "\n",
       "                        location         date  \n",
       "0                  Asheville, NC  05-Dec-2021  \n",
       "1   614 Courtlandt Ave, Bronx NY  05-Dec-2021  \n",
       "2                  Port Ewen, NY  05-Dec-2021  \n",
       "3                 Washington, DC  05-Dec-2021  \n",
       "4                                 05-Dec-2021  \n",
       "..                           ...          ...  \n",
       "95                     Stockholm  05-Dec-2021  \n",
       "96                                05-Dec-2021  \n",
       "97               London, England  05-Dec-2021  \n",
       "98                                05-Dec-2021  \n",
       "99                 United States  05-Dec-2021  \n",
       "\n",
       "[100 rows x 4 columns]"
      ]
     },
     "execution_count": 38,
     "metadata": {},
     "output_type": "execute_result"
    }
   ],
   "source": [
    "tweet_df=pd.DataFrame(data=tweet_details,columns=['text','user','location','date'])\n",
    "tweet_df"
   ]
  },
  {
   "cell_type": "code",
   "execution_count": 39,
   "id": "14d0a3d2",
   "metadata": {},
   "outputs": [],
   "source": [
    "tweet_df=tweet_df[tweet_df['location'].str.contains('USA')|tweet_df['location'].str.contains('United States')]\n",
    "tweet_df.head()"
   ]
  },
  {
   "cell_type": "code",
   "execution_count": 43,
   "id": "13b7cc94",
   "metadata": {},
   "outputs": [],
   "source": [
    "#rename to different names each time pulling, starting with pull\n",
    "tweet_df.to_csv(\"pull14.csv\",index=False,encoding='utf-8')\n",
    "#then we combined all the pull*.csv in .data\\recent_tw.csv"
   ]
  },
  {
   "cell_type": "code",
   "execution_count": null,
   "id": "bde35023",
   "metadata": {},
   "outputs": [],
   "source": []
  }
 ],
 "metadata": {
  "kernelspec": {
   "display_name": "Python 3 (ipykernel)",
   "language": "python",
   "name": "python3"
  },
  "language_info": {
   "codemirror_mode": {
    "name": "ipython",
    "version": 3
   },
   "file_extension": ".py",
   "mimetype": "text/x-python",
   "name": "python",
   "nbconvert_exporter": "python",
   "pygments_lexer": "ipython3",
   "version": "3.8.12"
  }
 },
 "nbformat": 4,
 "nbformat_minor": 5
}
